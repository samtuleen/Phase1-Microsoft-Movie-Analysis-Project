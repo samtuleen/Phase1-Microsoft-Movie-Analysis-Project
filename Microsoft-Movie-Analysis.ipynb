{
 "cells": [
  {
   "cell_type": "markdown",
   "metadata": {},
   "source": [
    "![example](images/camera-filming-banner2.jpg)"
   ]
  },
  {
   "cell_type": "markdown",
   "metadata": {},
   "source": [
    "# A Movie Production Analysis for Microsoft\n",
    "\n",
    "**Authors:** Sameeha Ramadhan"
   ]
  },
  {
   "cell_type": "markdown",
   "metadata": {},
   "source": [
    "## Overview\n",
    "\n",
    "This analysis attempts to satisfy the informational needs of Microsoft (MSFT) by investigating the film industry to determine which types of films their new studio should produce. We will look at a number of factors to better understand what contributes to the success of a movie, and in turn offer a few recommendations on the best strategies to get started. Descriptive analysis of popular genres and ratings data show that while the preferred movie types that some people enjoy varies seasonally (think: horror films around Halloween and Christmas movies during the Christmas season), overall the three types of films that are currently doing the best are: . Microsoft can use this analysis to adjust planning, production, and marketing to hit the ground running as they enter this highly competitve space.\n"
   ]
  },
  {
   "cell_type": "markdown",
   "metadata": {},
   "source": [
    " # Business Problem\n",
    " ![example](images/data-film.jpg)\n",
    "\n",
    "Microsoft may be able to enter the movie making sector and successfully stand out from fierce competition by choosing to create films that their target audiences have shown to thoroughly enjoy. Doing so will allow them to produce movies that will instantly become hits, which will in turn allow them to improve on and produce even more content, setting them up to be a studio force to be reckoned with. Using data from well-known industry sources such as Imdb, I analyze and explain patterns in popular movie types based on ratings and reviews, as well as budgeting decisions to help predict what audiences want from a film and thus, guaranteeing its success."
   ]
  },
  {
   "cell_type": "markdown",
   "metadata": {},
   "source": [
    "## Data Understanding\n",
    "\n",
    "Rotten Tomatoes is a well-known review-aggregation website for television and film. Due to its frequent use by the American public, it is widely viewed as the 'go-to' in deciding whether or not a movie or show is worth watching. IMDB.com is a database that is considered the most authoritative source for all film and television related material. The data from both websites provides information such as, but not limited to, budgets, reviews and ratings.\n",
    "\n",
    "***\n",
    "Questions to consider:\n",
    "* Where did the data come from, and how do they relate to the data analysis questions?\n",
    "* What do the data represent? Who is in the sample and what variables are included?\n",
    "* What is the target variable?\n",
    "* What are the properties of the variables you intend to use?\n",
    "***"
   ]
  },
  {
   "cell_type": "code",
   "execution_count": 1,
   "metadata": {},
   "outputs": [],
   "source": [
    "# Import standard packages\n",
    "import pandas as pd\n",
    "import numpy as np\n",
    "import matplotlib.pyplot as plt\n",
    "import seaborn as sns\n",
    "import sqlite3\n",
    "\n",
    "%matplotlib inline"
   ]
  },
  {
   "cell_type": "code",
   "execution_count": 2,
   "metadata": {},
   "outputs": [],
   "source": [
    "#Provided datasets:\n",
    "title_ratings = pd.read_csv('./data/imdb.title.ratings.csv.gz')\n",
    "title_akas = pd.read_csv('./data/imdb.title.akas.csv.gz')\n",
    "imdb_basics = pd.read_csv('./data/imdb.title.basics.csv.gz')\n",
    "name_basics = pd.read_csv('./data/imdb.name.basics.csv.gz')\n",
    "title_principals = pd.read_csv('./data/imdb.title.principals.csv.gz')\n",
    "movies = pd.read_csv('./data/tmdb.movies.csv.gz')\n",
    "movies_gross = pd.read_csv('./data/bom.movie_gross.csv.gz')\n",
    "movies_budget = pd.read_csv('./data/tn.movie_budgets.csv.gz')\n",
    "rt_critic_reviews = pd.read_csv('./data/rotten_tomatoes_critic_reviews.csv.gz')\n",
    "rt_movies = pd.read_csv('./data/rotten_tomatoes_movies.csv.gz')"
   ]
  },
  {
   "cell_type": "markdown",
   "metadata": {},
   "source": [
    "When starting this analysis, the first thought that comes to mind is what are the most popular types of movies and what are the average profits for the top 3 genres. To start exploring these facts, I will begin by examining and sorting the top 20 movie genres and then plotting the results for easy viewing."
   ]
  },
  {
   "cell_type": "code",
   "execution_count": 3,
   "metadata": {},
   "outputs": [
    {
     "data": {
      "text/html": [
       "<div>\n",
       "<style scoped>\n",
       "    .dataframe tbody tr th:only-of-type {\n",
       "        vertical-align: middle;\n",
       "    }\n",
       "\n",
       "    .dataframe tbody tr th {\n",
       "        vertical-align: top;\n",
       "    }\n",
       "\n",
       "    .dataframe thead th {\n",
       "        text-align: right;\n",
       "    }\n",
       "</style>\n",
       "<table border=\"1\" class=\"dataframe\">\n",
       "  <thead>\n",
       "    <tr style=\"text-align: right;\">\n",
       "      <th></th>\n",
       "      <th>tconst</th>\n",
       "      <th>primary_title</th>\n",
       "      <th>original_title</th>\n",
       "      <th>start_year</th>\n",
       "      <th>runtime_minutes</th>\n",
       "      <th>genres</th>\n",
       "    </tr>\n",
       "  </thead>\n",
       "  <tbody>\n",
       "    <tr>\n",
       "      <th>0</th>\n",
       "      <td>tt0063540</td>\n",
       "      <td>Sunghursh</td>\n",
       "      <td>Sunghursh</td>\n",
       "      <td>2013</td>\n",
       "      <td>175.0</td>\n",
       "      <td>Action,Crime,Drama</td>\n",
       "    </tr>\n",
       "    <tr>\n",
       "      <th>1</th>\n",
       "      <td>tt0066787</td>\n",
       "      <td>One Day Before the Rainy Season</td>\n",
       "      <td>Ashad Ka Ek Din</td>\n",
       "      <td>2019</td>\n",
       "      <td>114.0</td>\n",
       "      <td>Biography,Drama</td>\n",
       "    </tr>\n",
       "    <tr>\n",
       "      <th>2</th>\n",
       "      <td>tt0069049</td>\n",
       "      <td>The Other Side of the Wind</td>\n",
       "      <td>The Other Side of the Wind</td>\n",
       "      <td>2018</td>\n",
       "      <td>122.0</td>\n",
       "      <td>Drama</td>\n",
       "    </tr>\n",
       "    <tr>\n",
       "      <th>3</th>\n",
       "      <td>tt0069204</td>\n",
       "      <td>Sabse Bada Sukh</td>\n",
       "      <td>Sabse Bada Sukh</td>\n",
       "      <td>2018</td>\n",
       "      <td>NaN</td>\n",
       "      <td>Comedy,Drama</td>\n",
       "    </tr>\n",
       "    <tr>\n",
       "      <th>4</th>\n",
       "      <td>tt0100275</td>\n",
       "      <td>The Wandering Soap Opera</td>\n",
       "      <td>La Telenovela Errante</td>\n",
       "      <td>2017</td>\n",
       "      <td>80.0</td>\n",
       "      <td>Comedy,Drama,Fantasy</td>\n",
       "    </tr>\n",
       "  </tbody>\n",
       "</table>\n",
       "</div>"
      ],
      "text/plain": [
       "      tconst                    primary_title              original_title  \\\n",
       "0  tt0063540                        Sunghursh                   Sunghursh   \n",
       "1  tt0066787  One Day Before the Rainy Season             Ashad Ka Ek Din   \n",
       "2  tt0069049       The Other Side of the Wind  The Other Side of the Wind   \n",
       "3  tt0069204                  Sabse Bada Sukh             Sabse Bada Sukh   \n",
       "4  tt0100275         The Wandering Soap Opera       La Telenovela Errante   \n",
       "\n",
       "   start_year  runtime_minutes                genres  \n",
       "0        2013            175.0    Action,Crime,Drama  \n",
       "1        2019            114.0       Biography,Drama  \n",
       "2        2018            122.0                 Drama  \n",
       "3        2018              NaN          Comedy,Drama  \n",
       "4        2017             80.0  Comedy,Drama,Fantasy  "
      ]
     },
     "execution_count": 3,
     "metadata": {},
     "output_type": "execute_result"
    }
   ],
   "source": [
    "#Preview the imdb_basics table.\n",
    "imdb_basics.head(5)"
   ]
  },
  {
   "cell_type": "code",
   "execution_count": 4,
   "metadata": {
    "scrolled": true
   },
   "outputs": [
    {
     "data": {
      "text/html": [
       "<div>\n",
       "<style scoped>\n",
       "    .dataframe tbody tr th:only-of-type {\n",
       "        vertical-align: middle;\n",
       "    }\n",
       "\n",
       "    .dataframe tbody tr th {\n",
       "        vertical-align: top;\n",
       "    }\n",
       "\n",
       "    .dataframe thead th {\n",
       "        text-align: right;\n",
       "    }\n",
       "</style>\n",
       "<table border=\"1\" class=\"dataframe\">\n",
       "  <thead>\n",
       "    <tr style=\"text-align: right;\">\n",
       "      <th></th>\n",
       "      <th>Genre</th>\n",
       "      <th>Movie Count</th>\n",
       "    </tr>\n",
       "  </thead>\n",
       "  <tbody>\n",
       "    <tr>\n",
       "      <th>0</th>\n",
       "      <td>Documentary</td>\n",
       "      <td>51640</td>\n",
       "    </tr>\n",
       "    <tr>\n",
       "      <th>1</th>\n",
       "      <td>Drama</td>\n",
       "      <td>49883</td>\n",
       "    </tr>\n",
       "    <tr>\n",
       "      <th>2</th>\n",
       "      <td>Comedy</td>\n",
       "      <td>25312</td>\n",
       "    </tr>\n",
       "    <tr>\n",
       "      <th>3</th>\n",
       "      <td>Thriller</td>\n",
       "      <td>11883</td>\n",
       "    </tr>\n",
       "    <tr>\n",
       "      <th>4</th>\n",
       "      <td>Horror</td>\n",
       "      <td>10805</td>\n",
       "    </tr>\n",
       "  </tbody>\n",
       "</table>\n",
       "</div>"
      ],
      "text/plain": [
       "         Genre  Movie Count\n",
       "0  Documentary        51640\n",
       "1        Drama        49883\n",
       "2       Comedy        25312\n",
       "3     Thriller        11883\n",
       "4       Horror        10805"
      ]
     },
     "execution_count": 4,
     "metadata": {},
     "output_type": "execute_result"
    }
   ],
   "source": [
    "#I make a new dataframe from the 'genres' column by first splitting the column where each comma is found. I then pivot\n",
    "#the table using the explode method while counting the number of times each genre appears by using the value_counts method.\n",
    "#Then, preview.\n",
    "genre_count = imdb_basics['genres'].str.split(',').explode().value_counts()\n",
    "movie_genres = pd.DataFrame(genre_count)\n",
    "#Rename the columns\n",
    "movie_genres.reset_index(inplace=True)\n",
    "movie_genres = movie_genres.rename(columns = {'index':'Genre', 'genres':'Movie Count'})\n",
    "movie_genres.head(20)"
   ]
  },
  {
   "cell_type": "code",
   "execution_count": 9,
   "metadata": {
    "scrolled": false
   },
   "outputs": [
    {
     "data": {
      "image/png": "[encoded data removed]",
      "text/plain": [
       "<Figure size 1008x504 with 1 Axes>"
      ]
     },
     "metadata": {
      "needs_background": "light"
     },
     "output_type": "display_data"
    }
   ],
   "source": [
    "plt.figure(figsize=(14,7))\n",
    "ax3 = sns.barplot(x=movie_genres.loc[0:20,'Movie Count'], y=movie_genres.loc[0:20,'Genre'], palette='viridis')\n",
    "plt.xlabel('Movie Count', fontsize=12)\n",
    "plt.ylabel('Genre', fontsize=12)\n",
    "plt.title('Movie Count By Genre', fontsize=14);"
   ]
  },
  {
   "cell_type": "markdown",
   "metadata": {},
   "source": [
    "We can see from this chart that Documentaries top the number of films produced, followed by Dramas and Comedies. However, for a studio producing movies, the important question is which films are most profitable."
   ]
  },
  {
   "cell_type": "markdown",
   "metadata": {},
   "source": [
    "I will first determine how much profit each movie has made. To do so, we start by looking at the movies_budget data frame.\n"
   ]
  },
  {
   "cell_type": "code",
   "execution_count": null,
   "metadata": {
    "scrolled": true
   },
   "outputs": [],
   "source": [
    "#Preview the movies_budget data frame.\n",
    "movies_budget.head(5)"
   ]
  },
  {
   "cell_type": "code",
   "execution_count": null,
   "metadata": {},
   "outputs": [],
   "source": [
    "#I make a new data frame so I can return to the original one should need be:\n",
    "profitable_movies = movies_budget\n",
    "#Then I will need to convert the production_budget, domestic_gross, and worldwide_gross columns to integers in order to \n",
    "#make calculations. First, I remove the '$':\n",
    "profitable_movies.domestic_gross = [x.strip('$') for x in profitable_movies.domestic_gross]\n",
    "profitable_movies.production_budget = [x.strip('$') for x in profitable_movies.production_budget]\n",
    "profitable_movies.worldwide_gross = [x.strip('$') for x in profitable_movies.worldwide_gross]"
   ]
  },
  {
   "cell_type": "code",
   "execution_count": null,
   "metadata": {},
   "outputs": [],
   "source": [
    "#Then, I remove the commas,\n",
    "profitable_movies.domestic_gross = profitable_movies['domestic_gross'].astype(str).str.replace(',', '').astype(int) \n",
    "profitable_movies.production_budget = profitable_movies['production_budget'].astype(str).str.replace(',', '').astype(int) \n",
    "profitable_movies.worldwide_gross = profitable_movies['worldwide_gross'].astype(str).str.replace(',', '').astype(np.int64) \n",
    "#Because the numbers in this column are large, I used the .astype(np.int64) method."
   ]
  },
  {
   "cell_type": "markdown",
   "metadata": {},
   "source": [
    "Now let's remove all non profitable movies and have a look at our new data frame."
   ]
  },
  {
   "cell_type": "code",
   "execution_count": null,
   "metadata": {},
   "outputs": [],
   "source": [
    "profitable_movies = movies_budget[movies_budget['domestic_gross'] !=0]\n",
    "profitable_movies"
   ]
  },
  {
   "cell_type": "markdown",
   "metadata": {},
   "source": [
    "Next, I'll create and add a new column by calculating the profit of each film and defining it as profits."
   ]
  },
  {
   "cell_type": "code",
   "execution_count": null,
   "metadata": {},
   "outputs": [],
   "source": [
    "profitable_movies['profit'] = profitable_movies['worldwide_gross'] - profitable_movies['production_budget']\n",
    "profitable_movies"
   ]
  },
  {
   "cell_type": "markdown",
   "metadata": {},
   "source": [
    "And I'll add a profit margin column so we can really evaluate how much a movie has made:"
   ]
  },
  {
   "cell_type": "code",
   "execution_count": null,
   "metadata": {},
   "outputs": [],
   "source": [
    "profitable_movies['profit_margin'] = (profitable_movies['worldwide_gross'] - \n",
    "                                    profitable_movies['production_budget'])/profitable_movies['worldwide_gross']\n",
    "profitable_movies.head(10)"
   ]
  },
  {
   "cell_type": "code",
   "execution_count": null,
   "metadata": {},
   "outputs": [],
   "source": [
    "profitable_movies.query('movie==\"Dark Phoenix\"')"
   ]
  },
  {
   "cell_type": "markdown",
   "metadata": {},
   "source": [
    "Immediately the movie Dark Phoenix stands out as having a negative profit and profit margin which means that the movie did not make money. Since we are trying to determine which movies did the best, I will remove all films with a negative margin and arrange them by profit, from most profitable to least."
   ]
  },
  {
   "cell_type": "code",
   "execution_count": null,
   "metadata": {},
   "outputs": [],
   "source": [
    "films_with_profit = profitable_movies.loc[profitable_movies['profit'] > 0]\n",
    "movies_ranked = films_with_profit.sort_values(by=['profit'], ascending=False)\n",
    "movies_ranked.reset_index(inplace=True)\n",
    "movies_ranked.drop(columns=['index'], inplace=True)\n",
    "movies_ranked.head(20)"
   ]
  },
  {
   "cell_type": "code",
   "execution_count": null,
   "metadata": {
    "scrolled": false
   },
   "outputs": [],
   "source": [
    "ax1 = sns.lmplot(x='production_budget', y='profit', data=movies_ranked, line_kws={'color': 'green'}, height=7, aspect=2)\n",
    "plt.xlabel('Movie Budget (Hundreds of Millions of Dollars)', fontsize=10)\n",
    "plt.ticklabel_format(axis='x')\n",
    "plt.ylabel('Movie Profit (Billions of Dollars)', fontsize=10)\n",
    "plt.title('Movie Budget vs Movie Profit', fontsize=12);"
   ]
  },
  {
   "cell_type": "markdown",
   "metadata": {},
   "source": [
    "The upward trend (as indicated by the green line) shows that in general as a movie's budget increases, so does its profit. Based on this plot, we can begin to get a sense of what a budget should be per movie. To get a better look I will plot the top 20 movies and their budgets."
   ]
  },
  {
   "cell_type": "code",
   "execution_count": null,
   "metadata": {},
   "outputs": [],
   "source": [
    "plt.figure(figsize=(15,12))\n",
    "sns.barplot(x=movies_ranked.loc[0:20, 'movie'],y=movies_ranked.loc[0:20, 'profit'], \n",
    "            color='green', label='Profit')\n",
    "sns.barplot(x=movies_ranked.loc[0:20, 'movie'],y=movies_ranked.loc[0:20, 'production_budget'], \n",
    "            color='purple', label='Budget')\n",
    "plt.xlabel('Movie', fontsize=12, color='blue')\n",
    "plt.title(\"Profits and Budgets for the Top 20 Profitable Movies\", fontsize=14)\n",
    "plt.ylabel('Profit (Billions of Dollars)', fontsize=12, color='blue')\n",
    "plt.xticks(rotation=25, horizontalalignment='right', fontsize=10)\n",
    "plt.legend(fontsize=12);"
   ]
  },
  {
   "cell_type": "markdown",
   "metadata": {},
   "source": [
    "We can see clearly that the top 20 movies have incredible profits, with a mean margin of a whopping 86%! This is valuable information, especially considering that an average amount of $207,360,000 was spent per production."
   ]
  },
  {
   "cell_type": "code",
   "execution_count": null,
   "metadata": {},
   "outputs": [],
   "source": [
    "movies_ranked.loc[0:20, 'production_budget'].mean()"
   ]
  },
  {
   "cell_type": "code",
   "execution_count": null,
   "metadata": {},
   "outputs": [],
   "source": [
    "print(movies_ranked.loc[0:20, 'profit_margin'].mean())\n",
    "print(movies_ranked.loc[0:20, 'production_budget'].mean())"
   ]
  },
  {
   "cell_type": "markdown",
   "metadata": {},
   "source": [
    "Using the facts we've extracted above, we can see that the majority of the top 20 movies have a margin above 80% and now can decide on a set profit margin that we'd like to see.\n",
    "Based on this, we could suggest that Microsoft aim to spend about $200,000,00 per movie with an expectation of at lease 80% in profits, however this conclusion could be flawed since many high budget movies have not had high profit margins. See the previous observation we've made that the movie Dark Phoenix not only did not earn any profit, but it also lost a large amount despite it's high budget:"
   ]
  },
  {
   "cell_type": "code",
   "execution_count": null,
   "metadata": {},
   "outputs": [],
   "source": [
    "profitable_movies.query('movie==\"Dark Phoenix\"')"
   ]
  },
  {
   "cell_type": "markdown",
   "metadata": {},
   "source": [
    "So to get a more accurate figure, I will examine all of the profitable movies, not simply the top 20. In doing so, I immediately notice that the production budget increased while the profits and profit margins decreased (by almost 20%!)."
   ]
  },
  {
   "cell_type": "code",
   "execution_count": null,
   "metadata": {},
   "outputs": [],
   "source": [
    "movies_ranked.describe()"
   ]
  },
  {
   "cell_type": "code",
   "execution_count": null,
   "metadata": {},
   "outputs": [],
   "source": [
    "movies_ranked['production_budget'].mean()"
   ]
  },
  {
   "cell_type": "markdown",
   "metadata": {},
   "source": [
    "I've decided based on this information that to filter the data with a profit margin of at least 70% and a budget greater than $38,800,385 makes the most sense, I believe a margin any lower than 70% would not be the preferred aim of a new movie studio."
   ]
  },
  {
   "cell_type": "code",
   "execution_count": null,
   "metadata": {},
   "outputs": [],
   "source": [
    "profit_over_70 = profitable_movies.loc[(profitable_movies['profit_margin'] >= 0.70) & \n",
    "                         (profitable_movies['production_budget'] > 38800385)]\n",
    "profit_over_70"
   ]
  },
  {
   "cell_type": "markdown",
   "metadata": {},
   "source": [
    "And finally, I will plot this new data frame to examine if our theory that the larger the budget, the higher the profit, holds true:"
   ]
  },
  {
   "cell_type": "code",
   "execution_count": null,
   "metadata": {},
   "outputs": [],
   "source": [
    "ax2 = sns.lmplot(x='production_budget', y='profit_margin', data=profit_over_70, \n",
    "                 line_kws={'color': 'red'}, height=7, aspect=2)\n",
    "plt.xlabel('Movie Budget (Hundreds of Millions of Dollars)', fontsize=12, color='red')\n",
    "plt.ticklabel_format(axis='x')\n",
    "plt.ylabel('Profit Margin)', fontsize=12, color='red')\n",
    "plt.title('Movie Budget vs Movie Profit', fontsize=12);"
   ]
  },
  {
   "cell_type": "markdown",
   "metadata": {},
   "source": [
    "And with this visualization we can clearly see that our theory in fact did not hold true, since the trend line (indicated in red) is negative, and thus I'd recommend that Microsoft use careful restraint in budgeting. Larger budgets do not necessarily translate to larger profits, infact, it may lead to very low profit margins. In my final examination, I notice an average profit margin of and a budget of. **So to conclude: I recommend that Microsoft budget around $96,194,000 for production, which should produce a profit margin of at least 79%.**"
   ]
  },
  {
   "cell_type": "code",
   "execution_count": null,
   "metadata": {},
   "outputs": [],
   "source": [
    "print(profit_over_70['production_budget'].mean())\n",
    "print(profit_over_70['profit_margin'].mean())"
   ]
  },
  {
   "cell_type": "markdown",
   "metadata": {},
   "source": [
    "## Conclusions\n",
    "\n",
    "After careful analysis, I have concluded that although many other factors could be considered that may alter decision making, the following conclusions will contribute to Microsoft's success as it enters the movie making industry:\n",
    "\n",
    "I recommend that Microsoft budget approximately $96,194,000 to produce a film that should result in a profit margin around 80\\%.\n",
    "\n",
    "I recommend that Microsoft should focus their efforts on the top 6 most profitable movie genres: \n",
    "\n"
   ]
  },
  {
   "cell_type": "code",
   "execution_count": null,
   "metadata": {},
   "outputs": [],
   "source": []
  }
 ],
 "metadata": {
  "kernelspec": {
   "display_name": "Python 3",
   "language": "python",
   "name": "python3"
  },
  "language_info": {
   "codemirror_mode": {
    "name": "ipython",
    "version": 3
   },
   "file_extension": ".py",
   "mimetype": "text/x-python",
   "name": "python",
   "nbconvert_exporter": "python",
   "pygments_lexer": "ipython3",
   "version": "3.8.5"
  }
 },
 "nbformat": 4,
 "nbformat_minor": 4
}
